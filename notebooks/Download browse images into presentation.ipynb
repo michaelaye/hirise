{
 "cells": [
  {
   "cell_type": "markdown",
   "metadata": {
    "toc": "true"
   },
   "source": [
    "# Table of Contents\n",
    " <p><div class=\"lev1 toc-item\"><a href=\"#Download-obsid-browse-image\" data-toc-modified-id=\"Download-obsid-browse-image-1\"><span class=\"toc-item-num\">1&nbsp;&nbsp;</span>Download obsid browse image</a></div><div class=\"lev1 toc-item\"><a href=\"#Download-list-of-obsid-browse-images\" data-toc-modified-id=\"Download-list-of-obsid-browse-images-2\"><span class=\"toc-item-num\">2&nbsp;&nbsp;</span>Download list of obsid browse images</a></div><div class=\"lev1 toc-item\"><a href=\"#Create-presentation-from-browse-images\" data-toc-modified-id=\"Create-presentation-from-browse-images-3\"><span class=\"toc-item-num\">3&nbsp;&nbsp;</span>Create presentation from browse images</a></div>"
   ]
  },
  {
   "cell_type": "markdown",
   "metadata": {},
   "source": [
    "# Download obsid browse image"
   ]
  },
  {
   "cell_type": "code",
   "execution_count": 1,
   "metadata": {
    "ExecuteTime": {
     "end_time": "2017-06-26T07:00:34.548023Z",
     "start_time": "2017-06-26T07:00:32.150628Z"
    },
    "collapsed": true
   },
   "outputs": [],
   "source": [
    "from pyrise import products\n",
    "from pyrise.products import PRODUCT_ID\n",
    "from pyrise.downloads import download_browse_product"
   ]
  },
  {
   "cell_type": "code",
   "execution_count": 5,
   "metadata": {
    "ExecuteTime": {
     "end_time": "2017-06-26T07:01:21.432856Z",
     "start_time": "2017-06-26T07:01:21.399214Z"
    },
    "collapsed": true
   },
   "outputs": [],
   "source": [
    "obsid = 'PSP_003092_0985_RED'"
   ]
  },
  {
   "cell_type": "code",
   "execution_count": 8,
   "metadata": {
    "ExecuteTime": {
     "end_time": "2017-06-26T07:02:51.417208Z",
     "start_time": "2017-06-26T07:02:51.384758Z"
    },
    "collapsed": true
   },
   "outputs": [],
   "source": [
    "from urllib.request import urlretrieve"
   ]
  },
  {
   "cell_type": "code",
   "execution_count": 10,
   "metadata": {
    "ExecuteTime": {
     "end_time": "2017-06-26T07:03:01.025005Z",
     "start_time": "2017-06-26T07:02:58.759426Z"
    }
   },
   "outputs": [
    {
     "data": {
      "text/plain": [
       "\"Download a browse product from HiRISE website.\\n\\nBy default, store it in current path.\\n\\nParameters\\n----------\\nobsid : str\\n    HiRISE observation ID\\nkind : {'RED','COLOR'}, optional\\n    String indicating the kind of required browse product. Default: 'RED'\\nannotated : bool, optional\\n    Switch to control if the annotated version is required. Default: True\\nsaveroot : str, pathlib.Path, optional\\n    Path in where the browse product is being stored. Default: '.'\\noverwrite : bool, optional\\n    Boolean switch to control if an existing path should be overwritten. Default: False\\n\""
      ]
     },
     "execution_count": 10,
     "metadata": {},
     "output_type": "execute_result"
    },
    {
     "name": "stdout",
     "output_type": "stream",
     "text": [
      "URL: https://hirise-pds.lpl.arizona.edu/PDS/EXTRAS/RDR/PSP/ORB_003000_003099/PSP_003092_0985/PSP_003092_0985_RED.browse.jpg\n",
      "Downloading\n",
      " https://hirise-pds.lpl.arizona.edu/PDS/EXTRAS/RDR/PSP/ORB_003000_003099/PSP_003092_0985/PSP_003092_0985_RED.browse.jpg \n",
      "to\n",
      " test.jpg\n"
     ]
    },
    {
     "data": {
      "text/plain": [
       "('test.jpg', <http.client.HTTPMessage at 0x112407940>)"
      ]
     },
     "execution_count": 10,
     "metadata": {},
     "output_type": "execute_result"
    }
   ],
   "source": [
    "\"\"\"Download a browse product from HiRISE website.\n",
    "\n",
    "By default, store it in current path.\n",
    "\n",
    "Parameters\n",
    "----------\n",
    "obsid : str\n",
    "    HiRISE observation ID\n",
    "kind : {'RED','COLOR'}, optional\n",
    "    String indicating the kind of required browse product. Default: 'RED'\n",
    "annotated : bool, optional\n",
    "    Switch to control if the annotated version is required. Default: True\n",
    "saveroot : str, pathlib.Path, optional\n",
    "    Path in where the browse product is being stored. Default: '.'\n",
    "overwrite : bool, optional\n",
    "    Boolean switch to control if an existing path should be overwritten. Default: False\n",
    "\"\"\"\n",
    "kind='RED'\n",
    "pid = PRODUCT_ID(f\"{obsid}_{kind}\")\n",
    "url = pid.browse_url\n",
    "print(\"URL:\", url)\n",
    "savepath = 'test.jpg'\n",
    "print(\"Downloading\\n\", url, '\\nto\\n', savepath)\n",
    "try:\n",
    "    urlretrieve(url, str(savepath))\n",
    "except HTTPError as e:\n",
    "    print(e)"
   ]
  },
  {
   "cell_type": "code",
   "execution_count": 11,
   "metadata": {
    "ExecuteTime": {
     "end_time": "2017-06-26T07:04:18.154114Z",
     "start_time": "2017-06-26T07:04:17.859751Z"
    },
    "collapsed": true
   },
   "outputs": [],
   "source": [
    "!open test.jpg"
   ]
  },
  {
   "cell_type": "code",
   "execution_count": 68,
   "metadata": {
    "ExecuteTime": {
     "end_time": "2017-06-20T19:24:14.378679Z",
     "start_time": "2017-06-20T19:24:14.356223Z"
    }
   },
   "outputs": [
    {
     "name": "stdout",
     "output_type": "stream",
     "text": [
      "Path exists and 'overwrite' switch is False:\n"
     ]
    },
    {
     "data": {
      "text/plain": [
       "PosixPath('PSP_003092_0985_RED.browse.jpg')"
      ]
     },
     "execution_count": 68,
     "metadata": {},
     "output_type": "execute_result"
    }
   ],
   "source": [
    "download_browse_product(obsid, annotated=False)"
   ]
  },
  {
   "cell_type": "code",
   "execution_count": 70,
   "metadata": {
    "ExecuteTime": {
     "end_time": "2017-06-20T19:24:47.456235Z",
     "start_time": "2017-06-20T19:24:47.281236Z"
    },
    "collapsed": true
   },
   "outputs": [],
   "source": [
    "!open {_}"
   ]
  },
  {
   "cell_type": "markdown",
   "metadata": {},
   "source": [
    "# Download list of obsid browse images"
   ]
  },
  {
   "cell_type": "code",
   "execution_count": 71,
   "metadata": {
    "ExecuteTime": {
     "end_time": "2017-06-20T19:29:39.046723Z",
     "start_time": "2017-06-20T19:29:39.024899Z"
    },
    "collapsed": true
   },
   "outputs": [],
   "source": [
    "def download_browse_list(obsids, **kwargs):\n",
    "    \"\"\"Download browse products for a list of obsids.\n",
    "    \n",
    "    Parameters\n",
    "    ----------\n",
    "    obsids : iterable\n",
    "        Container with HiRISE observation ID strings\n",
    "        \n",
    "    Example\n",
    "    -------\n",
    "    download_browse_list(['PSP_003092_0985', 'ESP_020146_0950'])\n",
    "    \"\"\"\n",
    "    for obsid in obsids:\n",
    "        download_browse_product(obsid, **kwargs)"
   ]
  },
  {
   "cell_type": "code",
   "execution_count": 76,
   "metadata": {
    "ExecuteTime": {
     "end_time": "2017-06-20T19:39:42.355307Z",
     "start_time": "2017-06-20T19:39:41.467580Z"
    }
   },
   "outputs": [
    {
     "name": "stdout",
     "output_type": "stream",
     "text": [
      "Downloading\n",
      " https://hirise-pds.lpl.arizona.edu/PDS/EXTRAS/RDR/PSP/ORB_003000_003099/PSP_003092_0985/PSP_003092_0985_COLOR.abrowse.jpg \n",
      "to\n",
      " PSP_003092_0985_COLOR.abrowse.jpg\n",
      "Downloading\n",
      " https://hirise-pds.lpl.arizona.edu/PDS/EXTRAS/RDR/ESP/ORB_020100_020199/ESP_020146_0950/ESP_020146_0950_COLOR.abrowse.jpg \n",
      "to\n",
      " ESP_020146_0950_COLOR.abrowse.jpg\n"
     ]
    }
   ],
   "source": [
    "download_browse_list(['PSP_003092_0985', 'ESP_020146_0950'], kind='COLOR')"
   ]
  },
  {
   "cell_type": "markdown",
   "metadata": {},
   "source": [
    "# Create presentation from browse images"
   ]
  },
  {
   "cell_type": "code",
   "execution_count": 169,
   "metadata": {
    "ExecuteTime": {
     "end_time": "2017-06-20T20:25:09.236483Z",
     "start_time": "2017-06-20T20:25:09.194007Z"
    },
    "collapsed": true
   },
   "outputs": [],
   "source": [
    "from pptx import Presentation\n",
    "from scipy.misc import imread\n",
    "\n",
    "def create_browse_presentation(obsids, **kwargs):\n",
    "    prs = Presentation()\n",
    "\n",
    "    pic_left  = int(prs.slide_width * 0.0)\n",
    "    pic_top   = int(prs.slide_height * 0.0)\n",
    "    \n",
    "    blank_slide_layout = prs.slide_layouts[6]\n",
    "\n",
    "    for obsid in obsids[0:]:\n",
    "        imgpath = str(download_browse_product(obsid, **kwargs))\n",
    "        slide = prs.slides.add_slide(blank_slide_layout)\n",
    "        img = imread(imgpath)\n",
    "        ratio = img.shape[0] / img.shape[1]\n",
    "        if ratio < 1:\n",
    "            pic_width = int(prs.slide_width)\n",
    "            pic_height = int(pic_width * img.shape[0] / img.shape[1])\n",
    "        else:\n",
    "            pic_height = int(prs.slide_height)\n",
    "            pic_width = int(pic_height / ratio)\n",
    "        pic = slide.shapes.add_picture(imgpath, pic_left, pic_top, pic_width, pic_height)\n",
    "\n",
    "    prs.save('obsid_browse_images.pptx')"
   ]
  },
  {
   "cell_type": "code",
   "execution_count": 170,
   "metadata": {
    "ExecuteTime": {
     "end_time": "2017-06-20T20:25:09.599526Z",
     "start_time": "2017-06-20T20:25:09.575889Z"
    },
    "collapsed": true
   },
   "outputs": [],
   "source": [
    "obsids = ['PSP_003092_0985', 'ESP_020146_0950']"
   ]
  },
  {
   "cell_type": "code",
   "execution_count": 171,
   "metadata": {
    "ExecuteTime": {
     "end_time": "2017-06-20T20:25:10.522050Z",
     "start_time": "2017-06-20T20:25:10.048060Z"
    },
    "scrolled": false
   },
   "outputs": [
    {
     "name": "stdout",
     "output_type": "stream",
     "text": [
      "Path exists and 'overwrite' switch is False: PSP_003092_0985_RED.abrowse.jpg\n",
      "Path exists and 'overwrite' switch is False: ESP_020146_0950_RED.abrowse.jpg\n"
     ]
    }
   ],
   "source": [
    "create_browse_presentation(obsids)"
   ]
  },
  {
   "cell_type": "code",
   "execution_count": null,
   "metadata": {
    "collapsed": true
   },
   "outputs": [],
   "source": []
  }
 ],
 "metadata": {
  "kernelspec": {
   "display_name": "Python [conda env:py37] *",
   "language": "python",
   "name": "conda-env-py37-py"
  },
  "language_info": {
   "codemirror_mode": {
    "name": "ipython",
    "version": 3
   },
   "file_extension": ".py",
   "mimetype": "text/x-python",
   "name": "python",
   "nbconvert_exporter": "python",
   "pygments_lexer": "ipython3",
   "version": "3.7.3"
  },
  "toc": {
   "colors": {
    "hover_highlight": "#DAA520",
    "navigate_num": "#000000",
    "navigate_text": "#333333",
    "running_highlight": "#FF0000",
    "selected_highlight": "#FFD700",
    "sidebar_border": "#EEEEEE",
    "wrapper_background": "#FFFFFF"
   },
   "moveMenuLeft": true,
   "nav_menu": {
    "height": "66px",
    "width": "252px"
   },
   "navigate_menu": true,
   "number_sections": false,
   "sideBar": false,
   "threshold": 4,
   "toc_cell": true,
   "toc_section_display": "block",
   "toc_window_display": true,
   "widenNotebook": false
  }
 },
 "nbformat": 4,
 "nbformat_minor": 2
}
